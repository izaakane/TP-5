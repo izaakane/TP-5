{
 "cells": [
  {
   "cell_type": "markdown",
   "id": "17552cad",
   "metadata": {},
   "source": [
    "# TP : Introduction à GitHub et Programmation Dynamique\n",
    "\n",
    "Ce TP a pour objectif de vous initier à l'utilisation de GitHub pour le travail collaboratif, tout en résolvant un problème algorithmique classique : le plus court chemin dans un graphe."
   ]
  },
  {
   "cell_type": "markdown",
   "id": "211d2100",
   "metadata": {},
   "source": [
    "## Introduction à GitHub\n",
    "\n",
    "GitHub est une plateforme de gestion de versions basée sur Git. Elle permet de :\n",
    "- Sauvegarder et versionner votre code,\n",
    "- Travailler à plusieurs sur un même projet,\n",
    "- Suivre l'évolution des modifications,\n",
    "- Faciliter la collaboration et la revue de code.\n",
    "\n",
    "**Workflow classique :**\n",
    "1. Créer un dépôt (repository)\n",
    "2. Cloner le dépôt en local\n",
    "3. Ajouter/modifier des fichiers\n",
    "4. Enregistrer les modifications (commit)\n",
    "5. Envoyer les modifications sur GitHub (push)\n",
    "6. Récupérer les modifications des autres (pull)\n",
    "7. Gérer les branches pour travailler à plusieurs sur différentes fonctionnalités"
   ]
  },
  {
   "cell_type": "markdown",
   "id": "3f85aad1",
   "metadata": {},
   "source": [
    "## Énoncé du TP\n",
    "\n",
    "Vous allez travailler en binôme (élève A et élève B) pour résoudre le problème du plus court chemin dans un graphe, tout en découvrant les principales commandes Git et GitHub.\n",
    "\n",
    "### Étapes à suivre :\n",
    "\n",
    "1. **Création du dépôt**\n",
    "   - Un des deux élèves crée un dépôt GitHub nommé `TP5` et ajoute l'autre en collaborateur.\n",
    "   - Cloner le dépôt sur vos machines respectives.\n",
    "\n",
    "2. **Initialisation du projet**\n",
    "   - Créez un fichier `graphe.py` qui contiendra la classe `Graphe`.\n",
    "\n",
    "3. **Travail collaboratif**\n",
    "   - **Élève A** : Implémente le constructeur de la classe `Graphe` permettant de stocker les sommets et les arêtes (avec poids).\n",
    "   - **Élève B** : Ajoute une méthode pour ajouter une arête au graphe.\n",
    "   - **Élève A** : Ajoute une méthode pour afficher le graphe.\n",
    "   - **Élève B** : Implémente une méthode pour calculer le plus court chemin entre deux sommets (par exemple avec l’algorithme de Dijkstra ou Bellman-Ford).\n",
    "\n",
    "4. **Utilisation de Git**\n",
    "   - À chaque modification, utilisez les commandes suivantes :\n",
    "     - `git status` : pour voir l'état des fichiers\n",
    "     - `git add <fichier>` : pour ajouter les modifications\n",
    "      - `git add .`: pour ajouter les modifications de tout les fichiers\n",
    "     - `git commit -m \"message\"` : pour enregistrer un snapshot\n",
    "     - `git push` : pour envoyer sur GitHub\n",
    "     - `git pull` : pour récupérer les modifications de l'autre\n",
    "\n",
    "5. **Branches et fusion**\n",
    "   - Créez chacun une branche pour travailler sur une fonctionnalité différente.\n",
    "   - Utilisez `git branch <nom>`, `git checkout <nom>`, puis fusionnez avec `git merge`.\n",
    "\n",
    "6. **Testez votre code**\n",
    "   - Ajoutez un script de test pour vérifier le bon fonctionnement de vos méthodes ou ajouter le directement dans la documentation."
   ]
  },
  {
   "cell_type": "markdown",
   "id": "04769a58",
   "metadata": {},
   "source": [
    "## Rappel des commandes Git utiles\n",
    "\n",
    "- `git status`\n",
    "- `git add <fichier>`\n",
    "- `git commit -m \"message\"`\n",
    "- `git push`\n",
    "- `git pull`\n",
    "- `git branch`\n",
    "- `git checkout <branche>`\n",
    "- `git merge <branche>`"
   ]
  },
  {
   "cell_type": "markdown",
   "id": "1617c459",
   "metadata": {},
   "source": [
    "## Conseils\n",
    "\n",
    "- Communiquez régulièrement avec votre binôme.\n",
    "- Faites des commits fréquents avec des messages clairs.\n",
    "- Résolvez les conflits de fusion ensemble si besoin.\n",
    "- Documentez votre code."
   ]
  },
  {
   "cell_type": "markdown",
   "id": "cfa40a6c",
   "metadata": {},
   "source": [
    "---\n",
    "\n",
    "Bonne découverte de GitHub et bon TP !"
   ]
  }
 ],
 "metadata": {
  "language_info": {
   "name": "python"
  }
 },
 "nbformat": 4,
 "nbformat_minor": 5
}
