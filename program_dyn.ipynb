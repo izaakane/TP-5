{
 "cells": [
  {
   "cell_type": "markdown",
   "id": "c0404e4d",
   "metadata": {
    "vscode": {
     "languageId": "markdown"
    }
   },
   "source": [
    "# Exercice 1 : Triangle de Pascal\n",
    "\n",
    "## Question 1.1\n",
    "\n",
    "Donner un algorithme récursif du calcul de $\\binom{n}{k}$. Évaluer sa complexité.\n",
    "\n",
    "Rappel :\n",
    "- $\\binom{n}{k} = \\binom{n-1}{k-1} + \\binom{n-1}{k}$ pour $0 < k < n$\n",
    "- $\\binom{n}{0} = \\binom{n}{n} = 1$"
   ]
  },
  {
   "cell_type": "code",
   "execution_count": 1,
   "id": "316cc5e8",
   "metadata": {},
   "outputs": [],
   "source": [
    "# Question 1.1 : Algorithme récursif pour le calcul du coefficient binomial\n",
    "def binom_rec(n, k):\n",
    "    if k == 0 or k == n:\n",
    "        return 1\n",
    "    return binom_rec(n-1, k-1) + binom_rec(n-1, k)\n",
    "\n",
    "# Question 1.2 : Algorithme utilisant la programmation dynamique\n",
    "def binom_dp(n, k):\n",
    "    C = [[0 for _ in range(k+1)] for _ in range(n+1)]\n",
    "    for i in range(n+1):\n",
    "        for j in range(min(i, k)+1):\n",
    "            if j == 0 or j == i:\n",
    "                C[i][j] = 1\n",
    "            else:\n",
    "                C[i][j] = C[i-1][j-1] + C[i-1][j]\n",
    "    return C[n][k]"
   ]
  },
  {
   "cell_type": "code",
   "execution_count": 2,
   "id": "8d5c05ce",
   "metadata": {},
   "outputs": [
    {
     "name": "stdout",
     "output_type": "stream",
     "text": [
      "Complexité de binom_rec : O(2^n)\n",
      "Complexité de binom_dp : O(n*k)\n"
     ]
    }
   ],
   "source": [
    "# La complexité de binom_rec (récursif) est exponentielle : O(2^n), car chaque appel génère deux sous-appels sauf pour les cas de base.\n",
    "# La complexité de binom_dp (programmation dynamique) est O(n*k), car on remplit un tableau de taille (n+1) x (k+1) avec des opérations en temps constant.\n",
    "print(\"Complexité de binom_rec : O(2^n)\")\n",
    "print(\"Complexité de binom_dp : O(n*k)\")"
   ]
  },
  {
   "cell_type": "code",
   "execution_count": 8,
   "id": "25d1267d",
   "metadata": {
    "vscode": {
     "languageId": "ruby"
    }
   },
   "outputs": [
    {
     "name": "stdout",
     "output_type": "stream",
     "text": [
      "binom_dp(30, 10) = 30045015 (temps : 0.000273 secondes)\n",
      "binom_rec(30, 10) = 30045015 (temps : 1.986334 secondes)\n",
      "binom_dp(40, 10) = 847660528 (temps : 0.000045 secondes)\n",
      "binom_rec(40, 10) = 847660528 (temps : 54.673805 secondes)\n"
     ]
    }
   ],
   "source": [
    "import time\n",
    "\n",
    "for(n, k) in [(30, 10), (40, 10)] :\n",
    "\n",
    "\n",
    "    # Mesure du temps pour la version dynamique\n",
    "    start = time.time()\n",
    "    result_dp = binom_dp(n, k)\n",
    "    end = time.time()\n",
    "    print(f\"binom_dp({n}, {k}) = {result_dp} (temps : {end - start:.6f} secondes)\")\n",
    "\n",
    "    # Mesure du temps pour la version récursive\n",
    "    start = time.time()\n",
    "    result_rec = binom_rec(n, k)\n",
    "    end = time.time()\n",
    "    print(f\"binom_rec({n}, {k}) = {result_rec} (temps : {end - start:.6f} secondes)\")"
   ]
  }
 ],
 "metadata": {
  "kernelspec": {
   "display_name": "Python 3",
   "language": "python",
   "name": "python3"
  },
  "language_info": {
   "codemirror_mode": {
    "name": "ipython",
    "version": 3
   },
   "file_extension": ".py",
   "mimetype": "text/x-python",
   "name": "python",
   "nbconvert_exporter": "python",
   "pygments_lexer": "ipython3",
   "version": "3.12.1"
  }
 },
 "nbformat": 4,
 "nbformat_minor": 5
}
